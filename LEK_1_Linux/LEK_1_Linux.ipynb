{
 "cells": [
  {
   "cell_type": "markdown",
   "id": "8710c90e",
   "metadata": {},
   "source": [
    "# LEK 1"
   ]
  },
  {
   "cell_type": "code",
   "execution_count": 1,
   "id": "ed1fbfae",
   "metadata": {},
   "outputs": [
    {
     "name": "stdout",
     "output_type": "stream",
     "text": [
      "/home/cq/LinuxClass/LEK_1\r\n"
     ]
    }
   ],
   "source": [
    "!pwd"
   ]
  },
  {
   "cell_type": "code",
   "execution_count": 2,
   "id": "5ba7fc22",
   "metadata": {},
   "outputs": [
    {
     "name": "stdout",
     "output_type": "stream",
     "text": [
      "file1.txt  file2.txt  file3.txt  LEK_1.ipynb  script.sh\r\n"
     ]
    }
   ],
   "source": [
    "!touch file1.txt file2.txt file3.txt; ls"
   ]
  },
  {
   "cell_type": "code",
   "execution_count": 3,
   "id": "e792a803",
   "metadata": {},
   "outputs": [],
   "source": [
    "!echo -e \"This file has several lines:\\nThis is line 1\\nThis is line 2\\nThis is line 3\" > file1.txt"
   ]
  },
  {
   "cell_type": "code",
   "execution_count": 4,
   "id": "f2ecc1b2",
   "metadata": {},
   "outputs": [
    {
     "name": "stdout",
     "output_type": "stream",
     "text": [
      "This file has several lines:\r\n",
      "This is line 1\r\n",
      "This is line 2\r\n",
      "This is line 3\r\n"
     ]
    }
   ],
   "source": [
    "!cat file1.txt"
   ]
  },
  {
   "cell_type": "code",
   "execution_count": 5,
   "id": "4fa58d2a",
   "metadata": {},
   "outputs": [
    {
     "name": "stdout",
     "output_type": "stream",
     "text": [
      "4\r\n"
     ]
    }
   ],
   "source": [
    "# Exercise 1\n",
    "# wc (prints new line, word, and byte counts for each line)\n",
    "# parameter: -l (counts lines)\n",
    "!cat file1.txt | wc -l # call"
   ]
  },
  {
   "cell_type": "code",
   "execution_count": 6,
   "id": "ffff80c6",
   "metadata": {},
   "outputs": [
    {
     "name": "stdout",
     "output_type": "stream",
     "text": [
      "This file has several lines:\r\n",
      "This is line 1\r\n"
     ]
    }
   ],
   "source": [
    "# Exercise 2\n",
    "# head (outputs the first part of a file)\n",
    "# parameter: -n (prints the number of lines defined)\n",
    "! head -2 file1.txt # prints the 2 first lines within a file"
   ]
  },
  {
   "cell_type": "code",
   "execution_count": 8,
   "id": "8a6bf6ed",
   "metadata": {},
   "outputs": [
    {
     "name": "stdout",
     "output_type": "stream",
     "text": [
      "-rw-rw-r-- 1 cq cq 48 Feb  8 14:58 script.sh\n",
      "/bin/bash: ./script.sh: Permission denied\n",
      "-rwxrw-r-- 1 cq cq 48 Feb  8 14:58 script.sh\n",
      "The file consists of 1 line\n"
     ]
    }
   ],
   "source": [
    "# Exercise 3\n",
    "# chmod (change mode; changes permissions)\n",
    "# parameter u+x (allows a user to execute the file)\n",
    "# file script.sh is created using nano\n",
    "!ls -l script.sh\n",
    "!./script.sh\n",
    "!chmod u+x script.sh # file is executable now\n",
    "!ls -l script.sh\n",
    "!./script.sh"
   ]
  },
  {
   "cell_type": "code",
   "execution_count": 9,
   "id": "99c982dc",
   "metadata": {},
   "outputs": [
    {
     "name": "stdout",
     "output_type": "stream",
     "text": [
      "     1\tThis file has several lines:\r\n",
      "     2\tThis is line 1\r\n",
      "     3\tThis is line 2\r\n",
      "     4\tThis is line 3\r\n",
      "     5\tThis file has several lines:\r\n",
      "     6\tThis is line 1\r\n",
      "     7\tThis is line 2\r\n",
      "     8\tThis is line 3\r\n"
     ]
    }
   ],
   "source": [
    "# Exercise 4\n",
    "# cat (concatenates files and prints on STDOUT)\n",
    "!echo -e \"This file has several lines:\\nThis is line 1\\nThis is line 2\\nThis is line 3\" > file2.txt\n",
    "# parameter -n (numbers all output lines)\n",
    "! cat -n file1.txt file2.txt # call"
   ]
  },
  {
   "cell_type": "code",
   "execution_count": 10,
   "id": "f2816397",
   "metadata": {},
   "outputs": [
    {
     "name": "stdout",
     "output_type": "stream",
     "text": [
      "total 24K\r\n",
      "-rw-rw-r-- 1 cq cq   74 Feb  8 16:50 file1.txt\r\n",
      "-rw-rw-r-- 1 cq cq   74 Feb  8 16:51 file2.txt\r\n",
      "-rw-rw-r-- 1 cq cq  106 Feb  8 16:50 file3.txt\r\n",
      "-rw-rw-r-- 1 cq cq 5,4K Feb  8 16:48 LEK_1.ipynb\r\n",
      "-rwxrw-r-- 1 cq cq   48 Feb  8 14:58 script.sh\r\n"
     ]
    }
   ],
   "source": [
    "# Exercise 5\n",
    "# ls (lists directories/files)\n",
    "# parameter -l (long list with extra info); -h (human-readable size of files)\n",
    "!ls -lh"
   ]
  },
  {
   "cell_type": "code",
   "execution_count": 11,
   "id": "1d9b75ce",
   "metadata": {},
   "outputs": [
    {
     "name": "stdout",
     "output_type": "stream",
     "text": [
      "      2 This file has several lines:\r\n",
      "      2 This is line 1\r\n",
      "      2 This is line 2\r\n",
      "      2 This is line 3\r\n"
     ]
    }
   ],
   "source": [
    "# Exercise 6\n",
    "!cat file1.txt file2.txt | sort | uniq -c > file3.txt\n",
    "!cat file3.txt"
   ]
  }
 ],
 "metadata": {
  "kernelspec": {
   "display_name": "Python 3 (ipykernel)",
   "language": "python",
   "name": "python3"
  },
  "language_info": {
   "codemirror_mode": {
    "name": "ipython",
    "version": 3
   },
   "file_extension": ".py",
   "mimetype": "text/x-python",
   "name": "python",
   "nbconvert_exporter": "python",
   "pygments_lexer": "ipython3",
   "version": "3.9.5"
  }
 },
 "nbformat": 4,
 "nbformat_minor": 5
}
