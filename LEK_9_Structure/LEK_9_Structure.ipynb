{
 "cells": [
  {
   "cell_type": "markdown",
   "id": "b4659db1",
   "metadata": {},
   "source": [
    "# Structural Bioinformatics"
   ]
  },
  {
   "cell_type": "markdown",
   "id": "b57d8e42",
   "metadata": {},
   "source": [
    "## Protein Structures"
   ]
  },
  {
   "attachments": {},
   "cell_type": "markdown",
   "id": "e7fc575f",
   "metadata": {},
   "source": [
    "Name three structural planes of protein structures.\n",
    "\n",
    "1. Primary structure (amino acid sequence)\n",
    "2. Secondary structure ($\\alpha$-helix, $\\beta$-sheet, turn)\n",
    "3. Tertiary structure (three-dimentional structure formed by assembly of secondary structure)\n"
   ]
  },
  {
   "cell_type": "markdown",
   "id": "3eef5cdf",
   "metadata": {},
   "source": [
    "## PyMol"
   ]
  },
  {
   "cell_type": "markdown",
   "id": "690e1479",
   "metadata": {},
   "source": [
    "Give an example for the syntax in PyMol for creating the three selections below:"
   ]
  },
  {
   "attachments": {},
   "cell_type": "markdown",
   "id": "beab60f2",
   "metadata": {},
   "source": [
    "1. Select Chain A of your structure."
   ]
  },
  {
   "cell_type": "markdown",
   "id": "fccb9544",
   "metadata": {},
   "source": [
    "select ChA, chain A"
   ]
  },
  {
   "attachments": {},
   "cell_type": "markdown",
   "id": "866c3012",
   "metadata": {},
   "source": [
    "2. Select all Amino Acids in Helices in your structure."
   ]
  },
  {
   "cell_type": "markdown",
   "id": "b74eb793",
   "metadata": {},
   "source": [
    "select Helices, ss h"
   ]
  },
  {
   "cell_type": "markdown",
   "id": "49e517fe",
   "metadata": {},
   "source": [
    "3.\tSelect all prolines in your structure"
   ]
  },
  {
   "cell_type": "markdown",
   "id": "173dfcb2",
   "metadata": {},
   "source": [
    "select PRO, resn Pro"
   ]
  },
  {
   "cell_type": "markdown",
   "id": "f4b82d6a",
   "metadata": {},
   "source": [
    "## Modelling"
   ]
  },
  {
   "attachments": {},
   "cell_type": "markdown",
   "id": "f8ae83e1",
   "metadata": {},
   "source": [
    "Name the three methods you could use to generate protein structure models in silico.\n",
    "\n",
    "1. Homology or comparative modelling\n",
    "\n",
    "2. Threding (fold recognition) modelling\n",
    "\n",
    "3. *Ab initio* (*de novo*, new folds) modelling (*ab initio*: \"from the beginning\")"
   ]
  }
 ],
 "metadata": {
  "kernelspec": {
   "display_name": "Python 3 (ipykernel)",
   "language": "python",
   "name": "python3"
  },
  "language_info": {
   "codemirror_mode": {
    "name": "ipython",
    "version": 3
   },
   "file_extension": ".py",
   "mimetype": "text/x-python",
   "name": "python",
   "nbconvert_exporter": "python",
   "pygments_lexer": "ipython3",
   "version": "3.7.12"
  }
 },
 "nbformat": 4,
 "nbformat_minor": 5
}
