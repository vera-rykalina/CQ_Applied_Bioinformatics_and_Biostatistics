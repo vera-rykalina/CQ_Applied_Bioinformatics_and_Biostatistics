{
 "cells": [
  {
   "cell_type": "markdown",
   "id": "4884f3fb",
   "metadata": {},
   "source": [
    "# Sequence Analysis"
   ]
  },
  {
   "cell_type": "markdown",
   "id": "9809c507",
   "metadata": {},
   "source": [
    "## Dotplot"
   ]
  },
  {
   "cell_type": "markdown",
   "id": "c04619f7",
   "metadata": {},
   "source": [
    "**You have these two nucleotide sequences:\n",
    "S1: = \"AGTTGT\" and\t S2:= \"AGTTTGG\".\n",
    "Make a dotplot for these two sequences and use a windowsize of 2.**"
   ]
  },
  {
   "cell_type": "code",
   "execution_count": 7,
   "id": "613f03a4",
   "metadata": {},
   "outputs": [
    {
     "name": "stdout",
     "output_type": "stream",
     "text": [
      "[0, 1, 2, 2, 3, 4]\n",
      "[0, 1, 2, 3, 4, 1]\n"
     ]
    }
   ],
   "source": [
    "# Load modules\n",
    "import numpy as np\n",
    "import pylab as pl\n",
    "\n",
    "# Define sequnces\n",
    "seq_1 = \"AGTTGT\"\n",
    "seq_2 = \"AGTTTGG\"\n",
    "\n",
    "x = []\n",
    "y = []\n",
    "\n",
    "# With window =2, two nucleotides vs two nucleotides are compared\n",
    "window = 2\n",
    "error = 0 # for cases where error is needed\n",
    "\n",
    "for index1, letter1 in enumerate(seq_1):\n",
    "    for index2, letter2 in enumerate(seq_2):\n",
    "        list1 = [chunk1 for chunk1 in seq_1[index1:index1+window]]\n",
    "        list2 = [chunk2 for chunk2 in seq_2[index2:index2+window]]\n",
    "        if len(list1) == window and len(list2) == window:\n",
    "            #print(f'{list1} : {list2}') # optional: print only for short sequences\n",
    "            score = 0\n",
    "            for i in range(len(list1)):\n",
    "                if list1[i]==list2[i]:\n",
    "                    score +=1\n",
    "                    if score >= window - error:\n",
    "                        x.append(index1)\n",
    "                        y.append(index2)\n",
    "\n",
    "# Print coordinates\n",
    "print(x)\n",
    "print(y)\n",
    "\n",
    "# # A bit of preparation for plotting\n",
    "labels_x= [seq_1[i:i+window] for i in range(0, len(seq_1), 1) if len(seq_1[i:i+window]) >= window]\n",
    "labels_y= [seq_2[i:i+window] for i in range(0, len(seq_2), 1) if len(seq_2[i:i+window]) >= window]\n"
   ]
  },
  {
   "cell_type": "code",
   "execution_count": 5,
   "id": "6b2bc561",
   "metadata": {},
   "outputs": [
    {
     "data": {
      "image/png": "[encoded data removed]",
      "text/plain": [
       "<Figure size 360x360 with 1 Axes>"
      ]
     },
     "metadata": {
      "needs_background": "light"
     },
     "output_type": "display_data"
    }
   ],
   "source": [
    "%matplotlib inline\n",
    "# Plotting\n",
    "pl.figure(figsize=[5, 5])\n",
    "pl.plot(x,y, \".r\")\n",
    "pl.title(\"Sequence comparison (window size = 2)\")\n",
    "pl.xlabel(\"Seq1 (AGTTGT)\")\n",
    "pl.xticks(range(len(labels_x)), labels_x)\n",
    "pl.xlim(left=-1, right=len(labels_x))\n",
    "pl.ylabel(\"Seq2 (AGTTTGG)\")\n",
    "pl.yticks(range(len(labels_y)), labels_y)\n",
    "pl.ylim(bottom=-1, top=len(labels_y))\n",
    "pl.gca().xaxis.tick_bottom()\n",
    "pl.gca().xaxis.set_label_position(\"bottom\")\n",
    "pl.show()"
   ]
  },
  {
   "cell_type": "markdown",
   "id": "fdbc76a5",
   "metadata": {},
   "source": [
    "**What information can you read out of this specific plot?**\n",
    "\n",
    "As for this particular plot, one can see the significant number of matches (dots) between the two sequences (diagonal). The diagonal has a break that points out to an indel. After the break the diagonal continues what reflects a subsequent match (G in sequence 1 and G in sequence 2).\n",
    "\n",
    "seq_1  AGTT_GT\n",
    "\n",
    "seq_2  AGTTTGG"
   ]
  },
  {
   "cell_type": "markdown",
   "id": "6c395108",
   "metadata": {},
   "source": [
    "**Which information can be generally read out of a dotplot?**\n",
    "\n",
    "Here are just some example of such information pieces: similar regions, repeated sequences, sequence rearrangements, gene order, RNA structures etc.)."
   ]
  },
  {
   "cell_type": "markdown",
   "id": "dc5acd86",
   "metadata": {},
   "source": [
    "## Score and Alignment"
   ]
  },
  {
   "cell_type": "markdown",
   "id": "b677535e",
   "metadata": {},
   "source": [
    "**You have this alignment:**\n",
    "\n",
    "K A T Z E N \n",
    "\n",
    "K O T Z E _\n",
    "\n",
    "**Calculate the evaluation according to the following scoring scheme:**\n",
    "**Match := 0, Mismatch := 1, Gap := 2.**"
   ]
  },
  {
   "cell_type": "code",
   "execution_count": 6,
   "id": "969cd8a1",
   "metadata": {},
   "outputs": [
    {
     "name": "stdout",
     "output_type": "stream",
     "text": [
      "Evaluation according to the scheme is: 3\n"
     ]
    }
   ],
   "source": [
    "# Matches: 4, Mismatches: 1, gaps: 1\n",
    "score = 0*4 + 1*1 + 2*1\n",
    "print(f\"Evaluation according to the scheme is: {score}\")"
   ]
  },
  {
   "cell_type": "markdown",
   "id": "456df5a9",
   "metadata": {},
   "source": [
    "**Is this scheme one over the distance or the score?**\n",
    "\n",
    "This is a distance scheme.\n",
    "\n",
    "**Please tell in your answer when a scheme about distance and when a scheme about score is optimal.**  \n",
    "\n",
    "For an optimal alignment, a distance scheme is considered optimal when a distance is minimal, whereas in the case of a score scheme when a score is maximal."
   ]
  },
  {
   "cell_type": "markdown",
   "id": "90363edd",
   "metadata": {},
   "source": [
    "## Optimal Alignments"
   ]
  },
  {
   "cell_type": "markdown",
   "id": "93b52587",
   "metadata": {},
   "source": [
    "**You have the following sequences:**\n",
    "\n",
    "**S1 := „KLAUS“ and S2 := „FAGUN“**\n",
    "\n",
    "**Calculate the optimal local alignment and the score with an optimal algorithm.** \n",
    "\n",
    "**Use the following costs:**\n",
    "\n",
    "**Match := 5, Mismatch :=-2 und Gap := -3.**                                            "
   ]
  },
  {
   "cell_type": "code",
   "execution_count": 3,
   "id": "59eee33f",
   "metadata": {},
   "outputs": [
    {
     "name": "stdout",
     "output_type": "stream",
     "text": [
      "The score with an optimal local algorithm is: 7\n"
     ]
    }
   ],
   "source": [
    "# Optimal local alignment is AGU/A_U \n",
    "#  FAGUN\n",
    "# KLA_US\n",
    "\n",
    "# Matches: 2, Mismatches: 0, Gaps: 1\n",
    "score = 5*2 + (-2)*0 + (-3)*1\n",
    "print(f\"The score with an optimal local algorithm is: {score}\")"
   ]
  },
  {
   "cell_type": "markdown",
   "id": "6a7babd6",
   "metadata": {},
   "source": [
    "## Multiple Sequence Alignmens"
   ]
  },
  {
   "cell_type": "markdown",
   "id": "493c9fda",
   "metadata": {},
   "source": [
    "**What is calculated with the ClustalW algorithm**\n",
    "\n",
    "The algorithm is aimed at calculating the best match (under a given approach) for the selected multiple sequences, and lines them up so that the identities, similarities and differences can be seen.\n",
    "\n",
    "**Please state the three phases of this algorithm.**\n",
    "\n",
    "ClustalW consists of three phases: calculating the distance matrix (construction of all pairwise alignments), development of the guidedtree (joining neighbours), and progressive alignment\n",
    "\n",
    "**Define the concept of heuristics in bioinformatics.**\n",
    "\n",
    "Heuristics as a concept is an approach to problem-solving that uses a practical method or various shortcuts in order to produce solutions that may not be optimal but are sufficient given a limited timeframe or deadline."
   ]
  },
  {
   "cell_type": "markdown",
   "id": "ac518859",
   "metadata": {},
   "source": [
    "## Homology"
   ]
  },
  {
   "cell_type": "markdown",
   "id": "20871410",
   "metadata": {},
   "source": [
    "**Explain the terms homology, paralogy and orthology in relation to biological sequences.**\n",
    "\n",
    "Sequence homology in relation to biological sequences is defined in terms of shared ancestry in the evolutionary history of life. \n",
    "\n",
    "Orthology characterizes homologues biological sequences of different organisms that arose from a single ancestral sequence via speciation.\n",
    "\n",
    "Paralogy characterizes homologoues biological sequences, if these sequences are related via duplication events."
   ]
  },
  {
   "cell_type": "markdown",
   "id": "357e4554",
   "metadata": {},
   "source": [
    "## PAM"
   ]
  },
  {
   "cell_type": "markdown",
   "id": "2eae9f2e",
   "metadata": {},
   "source": [
    "**The entries in a PAM matrix can be negative, positive or zero. What is the meaning of this?**\n",
    "\n",
    "A positive entry (score) in a PAM matrix implies a high probability (a high chance of event occurrence) of mutating one amino acid into another.\n",
    "A negative entry (score) in a PAM matrix implies a low probability (a low chance of event occurrence) of mutating one amino acid into another.\n",
    "A zero entry (score of zero) in a PAM matrix implies that the probability of mutating one amino acid into another was as expected by chance.\n",
    "\n",
    "**You look at two sequences with an identity of 60%. You want to make an alignment with the help of a PAM Matrix – Which matrix would you use? Please explain your answer.**\n",
    "\n",
    "I would use an interpolation to define such a matrix, using the graph presented in the corresponding lecture. My estimation is a PAM60 or so. At PAM60 there are 40% differences per 100 residues.\n"
   ]
  },
  {
   "cell_type": "markdown",
   "id": "b8f635bb",
   "metadata": {},
   "source": [
    "## PARSEN            \n"
   ]
  },
  {
   "cell_type": "markdown",
   "id": "58e92283",
   "metadata": {},
   "source": [
    "**State the basic algorithm for parsing files.**\n",
    "\n",
    "A basic approach can be summarized as follows:\n",
    "\n",
    "- get acquainted with a file format\n",
    "\n",
    "- read a file line by line\n",
    "\n",
    "- produce of an array of lines\n",
    "\n",
    "- loop over the created array\n",
    "\n",
    "- separate lines based on distinct formatting features\n",
    "\n",
    "- based on separation, extract only needed pieces of information\n"
   ]
  },
  {
   "cell_type": "markdown",
   "id": "97737d18",
   "metadata": {},
   "source": [
    "**You have the file down below. Is this file formatted according to Fasta standards? Please explain your answer.**\n",
    "\n",
    "\\>ProteinName1\n",
    "\n",
    "SYFPHEITI \n",
    "\n",
    "\\>ProteinName2\n",
    "\n",
    "YFPHEIEETI\n",
    "\n",
    "ProteinName3\n",
    "\n",
    "SYFPHPIDTKEVTI\n",
    "\n",
    "In FASTA format the line before the sequence (nucleotide or peptide), called the FASTA definition line, must begin with a carat (\">\"), followed by a unique SeqID (sequence identifier).\n",
    "As FASTA definition line for the ProteinName3 does not begin with a catat sign, this file as a whole cannot satisfy the Fasta formatting standards."
   ]
  }
 ],
 "metadata": {
  "kernelspec": {
   "display_name": "Python 3 (ipykernel)",
   "language": "python",
   "name": "python3"
  },
  "language_info": {
   "codemirror_mode": {
    "name": "ipython",
    "version": 3
   },
   "file_extension": ".py",
   "mimetype": "text/x-python",
   "name": "python",
   "nbconvert_exporter": "python",
   "pygments_lexer": "ipython3",
   "version": "3.7.12"
  }
 },
 "nbformat": 4,
 "nbformat_minor": 5
}
