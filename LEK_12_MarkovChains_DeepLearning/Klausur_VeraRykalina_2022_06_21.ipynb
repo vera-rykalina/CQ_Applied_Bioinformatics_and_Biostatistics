{
 "cells": [
  {
   "cell_type": "markdown",
   "metadata": {
    "id": "x_76Q3SFJOYW"
   },
   "source": [
    "# General Remarks"
   ]
  },
  {
   "cell_type": "markdown",
   "metadata": {
    "id": "rkRkOLhWdTTq"
   },
   "source": [
    "- Please complete all tasks (text and code) directly in this notebook\n",
    "- Save the notebook with your first name and surname in the filename:  e.g. **Klausur_ThomasManke.ipynb**\n",
    "- Submit as github repo (preferred), alternatively you can upload the notebook to the CQ portal (and share with me)\n",
    "- This test will cover three parts: Markov chains, Hidden Markov Models, Artifical Neural Networks\n",
    "- Each part will need their own and sometimes overlapping packages to import (e.g numpy). Even if it is redundant, import the relevant parts explicitly at the beginnig of each part.\n",
    "- Complete the code cells in their respective sections and add (concise) text, where more verbal explanations are required. Comments in the code cells are also welcome.\n",
    "- Feel free to add multiple code cells if you prefer, but make sure that they stay in their respective sections\n",
    "- All tasks have been tested with mybinder.org and should run on any modern laptops (with 2 GB free RAM).\n",
    "Make sure to switch off other resource hungry programs.\n",
    "If you encounter any technical problems, please inform me immediately !\n",
    "- Deadline for submission: **21.06. 2022 15:30**\n",
    "\n",
    "\n",
    "---\n",
    "\n"
   ]
  },
  {
   "cell_type": "markdown",
   "metadata": {
    "id": "TAnJASH5quJk"
   },
   "source": [
    "# Markov Chains"
   ]
  },
  {
   "cell_type": "markdown",
   "metadata": {
    "id": "KmquoP14rDqe"
   },
   "source": [
    "##  The story: A ball game"
   ]
  },
  {
   "cell_type": "markdown",
   "metadata": {
    "id": "EKy4tTaCIquy"
   },
   "source": [
    "Alice, Bob and young Clemens are playing a new ball game - here are the rules:\n",
    "- If Alice has the ball, she will throw a (fair 6-sided) die and keep the ball if she throws a 6, otherwise she'll pass the ball to Bob\n",
    "- If Bob has the ball, he'll pass it to Alice or Clemens, based on the throw of a fair coin\n",
    "- If Clemens has the ball he'll return it to the child from whom he got it \n",
    "\n",
    "At the beginning of the game, their father throws the ball to Alice or Bob.\n",
    "However, he is three times more likely to throw it to Alice, and he never throws it to Clemens."
   ]
  },
  {
   "cell_type": "markdown",
   "metadata": {
    "id": "tdAPA9VJIv_H"
   },
   "source": [
    "## The Tasks"
   ]
  },
  {
   "cell_type": "markdown",
   "metadata": {
    "id": "kDyilCfuBA1C"
   },
   "source": [
    "Translate the story into a Markov Model. \n",
    "Optionally: add a scanned drawing of the Markov graph as jpeg file to this notebook.\n",
    "\n",
    "- What are the states and how many states are there?\n",
    "- What is the initial state distribution ? Write it down as numpy.array below.\n",
    "- Write down the transition matrix as numpy.array.\n",
    "- Does the Markov Model have a stationary distribution - and does your answer depend on whether Alice has a fair die? \n",
    "- Validate your answer numerically with the \"matrix power method\". \n",
    "- For each child, give their long-term probabilities that they hold the ball. \n",
    "- Bonus: In the fair die scenario, what is the number of steps that Alice can expect to hold the ball before having to pass it on. "
   ]
  },
  {
   "cell_type": "code",
   "execution_count": 18,
   "metadata": {},
   "outputs": [],
   "source": [
    "# Install (if necessary)"
   ]
  },
  {
   "cell_type": "code",
   "execution_count": 19,
   "metadata": {},
   "outputs": [],
   "source": [
    "# pip install numpy"
   ]
  },
  {
   "cell_type": "code",
   "execution_count": 20,
   "metadata": {},
   "outputs": [],
   "source": [
    "# pip install matplotlib"
   ]
  },
  {
   "cell_type": "markdown",
   "metadata": {
    "id": "V94CnEE8I3B0"
   },
   "source": [
    "## Your solutions"
   ]
  },
  {
   "cell_type": "code",
   "execution_count": 9,
   "metadata": {
    "colab": {
     "base_uri": "https://localhost:8080/",
     "height": 581
    },
    "id": "qBMuoo06-ZCV",
    "outputId": "7c080843-67a6-46a1-9e39-ebd880533b7a"
   },
   "outputs": [
    {
     "name": "stdout",
     "output_type": "stream",
     "text": [
      "[0.75 0.25 0.  ]\n",
      "[[0.16666667 0.83333333 0.        ]\n",
      " [0.5        0.         0.5       ]\n",
      " [0.         1.         0.        ]]\n",
      "True\n"
     ]
    },
    {
     "data": {
      "image/png": "[encoded data removed]",
      "text/plain": [
       "<Figure size 720x360 with 6 Axes>"
      ]
     },
     "metadata": {
      "needs_background": "light"
     },
     "output_type": "display_data"
    },
    {
     "data": {
      "image/png": "[encoded data removed]",
      "text/plain": [
       "<Figure size 720x360 with 6 Axes>"
      ]
     },
     "metadata": {
      "needs_background": "light"
     },
     "output_type": "display_data"
    },
    {
     "name": "stdout",
     "output_type": "stream",
     "text": [
      "long-term probabilities:     [[0.29 0.48 0.24]\n",
      " [0.29 0.48 0.24]\n",
      " [0.29 0.48 0.24]]\n",
      "expected stretch for Alice: , 1.2\n"
     ]
    }
   ],
   "source": [
    "# import the necessary modules\n",
    "import numpy as np\n",
    "import matplotlib.pyplot as plt\n",
    "from numpy.linalg import matrix_power\n",
    "\n",
    "def plot_transition_matrix(P, tmax=100):\n",
    "\n",
    "  # some sanity checks\n",
    "  assert P.shape[0]==P.shape[1],         \"P should be a squared matrix\"\n",
    "  assert np.allclose( P.sum(axis=1), 1), \"P should be a stochastic matrix\"\n",
    "\n",
    "  fig, ax = plt.subplots(nrows=1, ncols=5, figsize=(10,5))\n",
    "  i=0\n",
    "  for t in [0,1,2,10,tmax]:\n",
    "    S=matrix_power(P,t)\n",
    "    im=ax[i].imshow(S, cmap=plt.cm.Blues)\n",
    "    ax[i].set_title(t)\n",
    "    i = i + 1\n",
    "  cax = fig.add_axes([0.1, 0.2, 0.8, 0.05])\n",
    "  fig.colorbar(im, cax=cax, orientation='horizontal')\n",
    "  plt.show()\n",
    "\n",
    "\n",
    "\n",
    "# initial state distribution\n",
    "pi_0 = np.array([0.75, 0.25, 0])    \n",
    "print(pi_0)\n",
    "\n",
    "# transition matrix\n",
    "P=np.array([ [1/6, 5/6, 0],\n",
    "             [1/2, 0, 1/2],\n",
    "             [0, 1, 0] ])\n",
    "print(P)\n",
    "check= np.allclose(P.sum(axis=1), 1)\n",
    "print(check)\n",
    "\n",
    "t=1\n",
    "np.dot(pi_0, matrix_power(P, t))\n",
    "plot_transition_matrix(P, t)\n",
    "\n",
    "t=100\n",
    "np.dot(pi_0, matrix_power(P, t))\n",
    "plot_transition_matrix(P, t)\n",
    "\n",
    "print('long-term probabilities:    ', matrix_power(P, 100).round(2))\n",
    "\n",
    "i=0\n",
    "exp = 1/(1-P[i,i])\n",
    "print(f'expected stretch for Alice: , {exp}')"
   ]
  },
  {
   "cell_type": "code",
   "execution_count": 10,
   "metadata": {
    "colab": {
     "base_uri": "https://localhost:8080/",
     "height": 273
    },
    "id": "MNBBr-yVJERj",
    "outputId": "fd1d8351-0472-4002-faf8-014a08c430f0"
   },
   "outputs": [
    {
     "data": {
      "image/png": "[encoded data removed]",
      "text/plain": [
       "<Figure size 720x360 with 6 Axes>"
      ]
     },
     "metadata": {
      "needs_background": "light"
     },
     "output_type": "display_data"
    },
    {
     "name": "stdout",
     "output_type": "stream",
     "text": [
      "long-term probabilities:     [[0.4 0.4 0.2]\n",
      " [0.4 0.4 0.2]\n",
      " [0.4 0.4 0.2]]\n"
     ]
    }
   ],
   "source": [
    "# transition matrix (non-fair die)\n",
    "P2=np.array([ [0.5, 0.5, 0],\n",
    "             [1/2, 0, 1/2],\n",
    "             [0, 1, 0] ])\n",
    "t=100\n",
    "np.dot(pi_0, matrix_power(P2, t))\n",
    "plot_transition_matrix(P2, t)\n",
    "print('long-term probabilities:    ', matrix_power(P2, 100).round(2))"
   ]
  },
  {
   "cell_type": "markdown",
   "metadata": {
    "id": "MNqxwSCebwtR"
   },
   "source": [
    "Your verbal answers here:\n",
    "- States: Alice, Bob, and Clemens; Initial state: Father\n",
    "- There is no stationary distribution for P[0,0] = 0 (Markov chain is periodic). \n",
    "- There is an absorbing distribution for P[0,0] = 1."
   ]
  },
  {
   "cell_type": "markdown",
   "metadata": {
    "id": "nu1MafVSBSl3"
   },
   "source": [
    "# Hidden Markov Models"
   ]
  },
  {
   "cell_type": "markdown",
   "metadata": {
    "id": "FQm0LsInNOw-"
   },
   "source": [
    "## A story"
   ]
  },
  {
   "cell_type": "markdown",
   "metadata": {
    "id": "7po_s2CvswW0"
   },
   "source": [
    "The DNA of a (hypothetical) organism exists in 3 different configurations (0,1,2) that cannot be observed directly. They are, however, characterized by a specific distribution of observable nucleotides (A,C,G,T) that are emitted from each state. The state transition rates and emission rates are shown in the figure below.\n",
    "<div>\n",
    "   <img src=\"https://github.com/thomasmanke/ABS/raw/main/figures/HMM_DNA.jpg\",  width=\"1000\">\n",
    "</div>\n",
    "\n",
    "\n",
    "This problem can be modelled as a hidden Markov Model.\n",
    "\n",
    "\n",
    "\n",
    "\n",
    "\n",
    "\n",
    "\n",
    "\n"
   ]
  },
  {
   "cell_type": "markdown",
   "metadata": {
    "id": "jEe2gQXau2ZM"
   },
   "source": [
    "## Tasks"
   ]
  },
  {
   "cell_type": "markdown",
   "metadata": {
    "id": "xKdsvIW3u_2Q"
   },
   "source": [
    "1. Write down the HMM parameters as numpy arrays. The initial state probability $\\pi$ is not given, but you may assume that it is the stationary distribution of state transitions - calculate it and report it.\n",
    "\n",
    "2. Using MultinomialHMM() from the hmmlearn package, set up a probabilistic model with the parameters $(\\pi, P, E)$.\n",
    "\n",
    "3.  Sample a sequence of 2000 hidden states $Z$ and the corresponding observations $X$ from the model. Use a random seed = 42 for reproducibility.\n",
    "Report the first 20 pairs of hidden states and observations.\n",
    "\n",
    "\n",
    "4. Calculate the logarithm of the probability $\\log Pr(X)$ given the model from which you generated $X$ - why is it so low (1-2 sentences)?\n",
    "\n",
    "5. Name two algorithms to decode the \"best\" possible path of hidden states $Z$ from observations $X$ and a given model. Briefly describe their different goals (2 sentences).\n",
    "Run the respective function from hmmlearn to calculate \n",
    "$Z$ for both methods, given the $X$ and the current model.\n",
    "Save the result as $Z_1$ and $Z_2$.\n",
    "Report the number of differences between $Z_1$ and $Z_2$.\n",
    "\n",
    "6. Use the hmmlearn implementation of the Baum-Welch algorithm to determine the best parameters for the HMM model, if only $X$ is given. \n",
    "  - You will have to define a new model that does not yet know any parameters (e.g. model_fit). \n",
    "  - You may assume that the number of hidden states is known to be 3.\n",
    "  - Set \"np.random.seed(1)\" and run 500 iterations. \n",
    "  - Compare the results with your knowlegde of parameters from the generating model for $X$. You might want to round the fitted parameters to two digits: np.round(...,2)\n",
    "  - Comment on possible difference and name two ways in which you might improve the parameter fit."
   ]
  },
  {
   "cell_type": "code",
   "execution_count": null,
   "metadata": {},
   "outputs": [],
   "source": [
    "# Install (if necessary)"
   ]
  },
  {
   "cell_type": "code",
   "execution_count": 21,
   "metadata": {
    "colab": {
     "base_uri": "https://localhost:8080/"
    },
    "id": "DOJ7Jf5n4jp_",
    "outputId": "db387194-b6d1-40c1-c62f-76134e765b33"
   },
   "outputs": [],
   "source": [
    "# pip install hmmlearn"
   ]
  },
  {
   "cell_type": "markdown",
   "metadata": {
    "id": "O2nv6ZX4NWT4"
   },
   "source": [
    "## Load the Software"
   ]
  },
  {
   "cell_type": "code",
   "execution_count": 25,
   "metadata": {
    "id": "JSndHuWEIvWx"
   },
   "outputs": [],
   "source": [
    "# import modules you need\n",
    "import numpy as np\n",
    "import matplotlib.pyplot as plt\n",
    "from numpy.linalg import matrix_power\n",
    "from hmmlearn import hmm\n",
    "import math"
   ]
  },
  {
   "cell_type": "markdown",
   "metadata": {
    "id": "Gv-tnbcgNtCQ"
   },
   "source": [
    "## Your solution"
   ]
  },
  {
   "cell_type": "code",
   "execution_count": 26,
   "metadata": {
    "colab": {
     "base_uri": "https://localhost:8080/"
    },
    "id": "8B-9ZpE8I3HH",
    "outputId": "31f42496-91ef-45fc-d94b-763b0d65c9dd"
   },
   "outputs": [
    {
     "name": "stdout",
     "output_type": "stream",
     "text": [
      "4\n",
      "initial state probability: \n",
      " [0.21052632 0.52631579 0.26315789]\n",
      "MultinomialHMM(n_components=3)\n",
      "-.-.-.-.-.-.-.-.-.-.-.-.-.-.-.-.-.-.-.-.-.-.-.\n",
      "The first 20 states: [1 1 1 1 1 1 1 1 1 1 1 1 1 1 1 1 1 2 2 2]\n",
      "The first 20 observations: [3 2 0 3 2 3 0 0 2 1 0 1 3 2 0 0 3 3 0 0]\n",
      "log P(X) =  -2654.7047341081025\n",
      "differences (Z1-Z):   351\n",
      "differences (Z2-Z):   290\n",
      "differences (Z1-Z2):   203\n",
      "fit score:     -2675.0072476521154\n",
      "fitted P: \n",
      " [[0.79 0.2  0.01]\n",
      " [0.   0.71 0.29]\n",
      " [0.13 0.   0.87]]\n",
      "known P: \n",
      " [[0.75 0.25 0.  ]\n",
      " [0.   0.9  0.1 ]\n",
      " [0.2  0.   0.8 ]]\n",
      "\n",
      "\n",
      "fitted E: \n",
      " [[0.47 0.   0.02 0.51]\n",
      " [0.02 0.4  0.58 0.  ]\n",
      " [0.24 0.31 0.23 0.23]]\n",
      "know E: \n",
      " [[0.   0.5  0.5  0.  ]\n",
      " [0.25 0.25 0.25 0.25]\n",
      " [0.5  0.   0.   0.5 ]]\n"
     ]
    }
   ],
   "source": [
    "#transitions\n",
    "P = np.array([ [0.75, 0.25, 0],\n",
    "               [0, 0.9, 0.1],\n",
    "               [0.2, 0, 0.8] ]) \n",
    "\n",
    "\n",
    "\n",
    "# emission\n",
    "E = np.array([ [0, 0.5, 0.5, 0],\n",
    "              [0.25, 0.25, 0.25, 0.25],\n",
    "              [0.5, 0, 0, 0.5] ]) \n",
    "print(E.shape[1])\n",
    "\n",
    "# statitonary distribution\n",
    "pi= matrix_power(P, 200)[1,]  \n",
    "print(f\"initial state probability: \\n {pi}\")\n",
    "\n",
    "\n",
    "# define model\n",
    "np.random.seed(42)\n",
    "model = hmm.MultinomialHMM(n_components=3)\n",
    "print(model)\n",
    "model.startprob_ = pi  \n",
    "model.transmat_  = P                  \n",
    "model.emissionprob_ = E    \n",
    "\n",
    "\n",
    "# sample from model\n",
    "X,Z = model.sample(2000)                   \n",
    "#print('states Z       =',*Z.flatten())\n",
    "#print('observations X =',*X.flatten())\n",
    "\n",
    "print(\"-.-.-.-.-.-.-.-.-.-.-.-.-.-.-.-.-.-.-.-.-.-.-.\")\n",
    "# As asked in the task test -> 20 first Z and X\n",
    "print(f\"The first 20 states: {Z[0:20].flatten()}\")\n",
    "print(f\"The first 20 observations: {X[0:20].flatten()}\")\n",
    "\n",
    "# log P(X)\n",
    "print('log P(X) = ', model.score(X))\n",
    "# this sequence order has a very small probability as it is just one specific \n",
    "# instance of numerous permutations\n",
    "\n",
    "\n",
    "# two ways to predict best path\n",
    "_, Z1 =model.decode(X, algorithm=\"viterbi\")\n",
    "_, Z2 =model.decode(X, algorithm=\"map\")\n",
    "\n",
    "# Check differences\n",
    "print('differences (Z1-Z):  ', np.sum(Z1 != Z)) \n",
    "print('differences (Z2-Z):  ', np.sum(Z2 != Z))\n",
    "\n",
    "# differences between two paths Z1 and Z2\n",
    "print('differences (Z1-Z2):  ', np.sum(Z1 != Z2))\n",
    "\n",
    "\n",
    "# Viterbi maximizes P(Z|X) over *all* Z\n",
    "# Map: maximizes P(Z_t=i|X) given all previous, present and future observation\n",
    "\n",
    "# new model for fit\n",
    "model_fit = hmm.MultinomialHMM(n_components=3) \n",
    "model_fit.fit(X) \n",
    "\n",
    "# print results\n",
    "score = model_fit.score(X)\n",
    "print('fit score:    ', score )\n",
    "\n",
    "\n",
    "np.random.seed(1)\n",
    "model_fit = hmm.MultinomialHMM(n_components=3, n_iter=500) \n",
    "model_fit.fit(X) \n",
    "\n",
    "print('fitted P: \\n', np.round(model_fit.transmat_,2))\n",
    "print('known P: \\n', P)\n",
    "print('\\n')\n",
    "print('fitted E: \\n'  , np.round(model_fit.emissionprob_,2))\n",
    "print('know E: \\n', E)\n",
    "\n",
    "# The Baum-Welch algorithm only delivers local maxima.\n",
    "# We can change hyperparameters to improve predictions:\n",
    "# number of iterations, initial estimates, prior assumptions.\n",
    "# It returns local maxima that may not be globally optimal,\n",
    "# but of course those local maxima are returned correctly (assuming sufficent number of iterations)."
   ]
  },
  {
   "cell_type": "markdown",
   "metadata": {
    "id": "wFxYP6rw4kUp"
   },
   "source": [
    "# Artificial Neural Networks\n",
    "\n",
    "\n"
   ]
  },
  {
   "cell_type": "markdown",
   "metadata": {
    "id": "2tyg07p1vHdY"
   },
   "source": [
    "## The Data"
   ]
  },
  {
   "cell_type": "markdown",
   "metadata": {
    "id": "Flb0KZGWvNK5"
   },
   "source": [
    "The MINST-Fashion dataset contains a large number of (small and coarse-grained) images from fashion items. This set has been annotated with labels for both traing and test data sets.\n",
    "\n",
    "Link: https://www.tensorflow.org/datasets/catalog/fashion_mnist\n",
    "\n",
    "The goals is to construct a Neural Network that can predict the fashion label from a given image.\n",
    "\n",
    "The sections below will describe the individual tasks."
   ]
  },
  {
   "cell_type": "code",
   "execution_count": 28,
   "metadata": {},
   "outputs": [],
   "source": [
    "# Install (if necessary)"
   ]
  },
  {
   "cell_type": "code",
   "execution_count": 31,
   "metadata": {},
   "outputs": [],
   "source": [
    "# pip install tensorflow"
   ]
  },
  {
   "cell_type": "code",
   "execution_count": 32,
   "metadata": {},
   "outputs": [],
   "source": [
    "# pip install sklearn"
   ]
  },
  {
   "cell_type": "markdown",
   "metadata": {
    "id": "rlCQxCEjTHth"
   },
   "source": [
    "## Load Packages"
   ]
  },
  {
   "cell_type": "code",
   "execution_count": 33,
   "metadata": {
    "id": "VSvmyi-WS8Dw"
   },
   "outputs": [],
   "source": [
    "# import required packages\n",
    "\n",
    "import numpy as np\n",
    "import matplotlib.pyplot as plt\n",
    "import tensorflow as tf\n",
    "from sklearn.metrics import confusion_matrix\n",
    "\n",
    "\n",
    "# a convenience function\n",
    "def plot_cm(mat):\n",
    "  classes = np.arange(cm.shape[0])\n",
    "  plt.imshow(mat, cmap=plt.cm.Blues)\n",
    "  for (j,i),label in np.ndenumerate(mat):\n",
    "    plt.text(i,j,np.round(label,2),ha='center',va='center')\n",
    "\n",
    "  plt.colorbar()\n",
    "  plt.title('Confusion Matrix')\n",
    "  plt.xlabel('True label')\n",
    "  plt.ylabel('Pred label')\n",
    "  plt.xticks(classes)\n",
    "  plt.yticks(classes)\n",
    "  plt.show()"
   ]
  },
  {
   "cell_type": "markdown",
   "metadata": {
    "id": "-Eaw4p1vTEeF"
   },
   "source": [
    "## Load Data"
   ]
  },
  {
   "cell_type": "markdown",
   "metadata": {
    "id": "3L-_ELx9-uBh"
   },
   "source": [
    "This section is given purposefully. Simply run it to get train and test data together with the respective labels. \n",
    "\n",
    "Also keep the normalization as is."
   ]
  },
  {
   "cell_type": "code",
   "execution_count": 34,
   "metadata": {
    "colab": {
     "base_uri": "https://localhost:8080/"
    },
    "id": "CdZXakVXBU94",
    "outputId": "73f58bde-a15d-4533-c676-0c0ef52d6b4d"
   },
   "outputs": [
    {
     "name": "stdout",
     "output_type": "stream",
     "text": [
      "Downloading data from https://storage.googleapis.com/tensorflow/tf-keras-datasets/train-labels-idx1-ubyte.gz\n",
      "29515/29515 [==============================] - 0s 1us/step\n",
      "Downloading data from https://storage.googleapis.com/tensorflow/tf-keras-datasets/train-images-idx3-ubyte.gz\n",
      "26421880/26421880 [==============================] - 21s 1us/step\n",
      "Downloading data from https://storage.googleapis.com/tensorflow/tf-keras-datasets/t10k-labels-idx1-ubyte.gz\n",
      "5148/5148 [==============================] - 0s 0us/step\n",
      "Downloading data from https://storage.googleapis.com/tensorflow/tf-keras-datasets/t10k-images-idx3-ubyte.gz\n",
      "4422102/4422102 [==============================] - 4s 1us/step\n"
     ]
    }
   ],
   "source": [
    "mnist = tf.keras.datasets.fashion_mnist\n",
    "(X_train, y_train), (X_test, y_test) = mnist.load_data()\n",
    "\n",
    "# normalization\n",
    "X_train, X_test = X_train / 255.0, X_test / 255.0"
   ]
  },
  {
   "cell_type": "markdown",
   "metadata": {
    "id": "sJDkDz68Q5zM"
   },
   "source": [
    "## Data Exploration and Preprocessing"
   ]
  },
  {
   "cell_type": "markdown",
   "metadata": {
    "id": "es5baF90Q-iv"
   },
   "source": [
    "- How many images (=samples) are included in the training data? 60000\n",
    "- What is the shape of these images? 28 x 28\n",
    "- How many distinct labels does it have? 10"
   ]
  },
  {
   "cell_type": "code",
   "execution_count": 35,
   "metadata": {
    "colab": {
     "base_uri": "https://localhost:8080/",
     "height": 439
    },
    "id": "5hfheoJlRNEd",
    "outputId": "c2fcbd47-473a-401b-bbaf-06d085a04075"
   },
   "outputs": [
    {
     "name": "stdout",
     "output_type": "stream",
     "text": [
      "(60000, 28, 28)\n",
      "(60000,)\n",
      "(10000, 28, 28)\n",
      "(10000,)\n",
      "<class 'numpy.ndarray'>\n",
      "3\n",
      "47040000\n",
      "1\n",
      "[0 1 2 3 4 5 6 7 8 9]\n",
      "10\n"
     ]
    },
    {
     "data": {
      "image/png": "[encoded data removed]",
      "text/plain": [
       "<Figure size 432x288 with 1 Axes>"
      ]
     },
     "metadata": {
      "needs_background": "light"
     },
     "output_type": "display_data"
    }
   ],
   "source": [
    "print(X_train.shape)\n",
    "print(y_train.shape)\n",
    "print(X_test.shape)\n",
    "print(y_test.shape)\n",
    "print(type(X_train))\n",
    "print(X_train.ndim)\n",
    "print(X_train.size)\n",
    "print(y_train.ndim)\n",
    "\n",
    "plt.imshow(X_train[0,])\n",
    "\n",
    "nc = np.unique(y_train)\n",
    "print(nc)\n",
    "nc = np.unique(y_train).size # ten unique classe\n",
    "print(nc)"
   ]
  },
  {
   "cell_type": "code",
   "execution_count": 36,
   "metadata": {
    "colab": {
     "base_uri": "https://localhost:8080/",
     "height": 589
    },
    "id": "5WRASIv3GQoc",
    "outputId": "5d00647c-2e4e-4d8d-fcd7-ab8f36240b47"
   },
   "outputs": [
    {
     "data": {
      "image/png": "[encoded data removed]",
      "text/plain": [
       "<Figure size 720x720 with 25 Axes>"
      ]
     },
     "metadata": {},
     "output_type": "display_data"
    }
   ],
   "source": [
    "class_names = ['T-shirt/top', 'Trouser', 'Pullover', 'Dress', 'Coat',\n",
    "               'Sandal', 'Shirt', 'Sneaker', 'Bag', 'Ankle boot']\n",
    "\n",
    "plt.figure(figsize=(10,10))\n",
    "for i in range(25):\n",
    "    plt.subplot(5,5,i+1)\n",
    "    plt.xticks([])\n",
    "    plt.yticks([])\n",
    "    plt.grid(False)\n",
    "    plt.imshow(X_train[i], cmap=plt.cm.binary)\n",
    "    plt.xlabel(class_names[y_train[i]])\n",
    "plt.show()"
   ]
  },
  {
   "cell_type": "markdown",
   "metadata": {
    "id": "IB8Urui41lRB"
   },
   "source": [
    "## Define Model and Learning Strategy"
   ]
  },
  {
   "cell_type": "markdown",
   "metadata": {
    "id": "DT1r9bfm15DE"
   },
   "source": [
    "Construct an artifical neural network with\n",
    "\n",
    "- an input layer that takes the proper shape of images\n",
    "- a dense layer with 128 nodes including a 'ReLu' activation function for non-linear mapping \n",
    "- an output layer corresponding to the number of classes in the problem and a softmax activation function\n",
    "\n",
    "Use the Adam optimizer and define a suitable loss function.\n",
    "Make sure that during the learning process you will track both loss and 'sparse_categorical_accuracy' as metrics.\n",
    "\n",
    "Summarize the model. How many parameters does it have?"
   ]
  },
  {
   "cell_type": "code",
   "execution_count": 37,
   "metadata": {
    "colab": {
     "base_uri": "https://localhost:8080/"
    },
    "id": "M38ECS3h1j8P",
    "outputId": "b84b1886-e285-42ac-be9b-9db43fea2582"
   },
   "outputs": [
    {
     "name": "stdout",
     "output_type": "stream",
     "text": [
      "X_train.shape:      (60000, 28, 28)\n",
      "input_shape:        (28, 28)\n",
      "number of classes:  10\n",
      "Model: \"model_fashion\"\n",
      "_________________________________________________________________\n",
      " Layer (type)                Output Shape              Param #   \n",
      "=================================================================\n",
      " flatten (Flatten)           (None, 784)               0         \n",
      "                                                                 \n",
      " 1st_layer (Dense)           (None, 128)               100480    \n",
      "                                                                 \n",
      " softmax_layer (Dense)       (None, 10)                1290      \n",
      "                                                                 \n",
      "=================================================================\n",
      "Total params: 101,770\n",
      "Trainable params: 101,770\n",
      "Non-trainable params: 0\n",
      "_________________________________________________________________\n"
     ]
    }
   ],
   "source": [
    "# Define Model and Learning strategy here\n",
    "nc = np.unique(y_train).size  # number of classes / labels in training set\n",
    "l_name = 'sparse_categorical_crossentropy'\n",
    "a_name = 'sparse_categorical_accuracy'\n",
    "\n",
    "input_shape = X_train.shape[1:]\n",
    "\n",
    "print('X_train.shape:     ', X_train.shape)\n",
    "print('input_shape:       ', input_shape)\n",
    "print('number of classes: ', nc)\n",
    "\n",
    "model_f = tf.keras.Sequential( name = 'model_fashion')\n",
    "model_f.add( tf.keras.layers.Flatten(input_shape=input_shape) )                # flattens input to vector \n",
    "model_f.add( tf.keras.layers.Dense(128, activation='relu',name='1st_layer') )  # add layer with 128 nodes + relu\n",
    "model_f.add( tf.keras.layers.Dense(nc, activation='softmax', name='softmax_layer') )\n",
    "\n",
    "model_f.compile(optimizer='adam', loss=l_name, metrics=a_name)\n",
    "\n",
    "model_f.summary() # 101770 parameters\n"
   ]
  },
  {
   "cell_type": "markdown",
   "metadata": {
    "id": "AwZkXQtP1-KN"
   },
   "source": [
    "## Fit the Model"
   ]
  },
  {
   "cell_type": "markdown",
   "metadata": {
    "id": "M6M6rQrPSgQj"
   },
   "source": [
    "Fit the model to the training data for 10 epochs - \n",
    "use 10% of the ttraining data for validation.\n",
    "\n",
    "Once the fit is finished you may save the model."
   ]
  },
  {
   "cell_type": "code",
   "execution_count": 38,
   "metadata": {
    "id": "YB-KM86B2AyG"
   },
   "outputs": [],
   "source": [
    "fh = model_f.fit(X_train, y_train, epochs=10, verbose=0, validation_split=0.1)"
   ]
  },
  {
   "cell_type": "code",
   "execution_count": 39,
   "metadata": {
    "colab": {
     "base_uri": "https://localhost:8080/"
    },
    "id": "v19fl5O3-wJT",
    "outputId": "91b8086c-a4fa-4b0c-afe8-808727b52cb2"
   },
   "outputs": [
    {
     "name": "stdout",
     "output_type": "stream",
     "text": [
      "INFO:tensorflow:Assets written to: ram://8a5d1ff4-653c-4cf3-9511-ece8d46f7e74/assets\n"
     ]
    }
   ],
   "source": [
    "model_fn   = 'fashion_mnist_model.h5'   # specifying .h5 generates one h5 file (rather than a directory)\n",
    "history_fn = 'fashion_minst_history.npy'\n",
    "\n",
    "model_f.save(model_fn)\n",
    "np.save(history_fn, fh) "
   ]
  },
  {
   "cell_type": "markdown",
   "metadata": {
    "id": "yOh4_l0m2XTS"
   },
   "source": [
    "## Evaluate the Model"
   ]
  },
  {
   "cell_type": "markdown",
   "metadata": {
    "id": "iRUzrhTbTXVQ"
   },
   "source": [
    "Plot the history of loss and accuracy for the training and validation set and compare it the same metrics obtained (after fitting) for the test data.\n",
    "\n",
    "Are there any indications for overfitting - explain this briefly (1-2 sentences)."
   ]
  },
  {
   "cell_type": "code",
   "execution_count": 40,
   "metadata": {
    "colab": {
     "base_uri": "https://localhost:8080/",
     "height": 576
    },
    "id": "Tj2kOkt12bMB",
    "outputId": "1973a73b-c32e-41bb-d12d-901aa6585b02"
   },
   "outputs": [
    {
     "name": "stdout",
     "output_type": "stream",
     "text": [
      "313/313 [==============================] - 0s 1ms/step - loss: 0.3357 - sparse_categorical_accuracy: 0.8867\n"
     ]
    },
    {
     "data": {
      "image/png": "[encoded data removed]",
      "text/plain": [
       "<Figure size 432x288 with 1 Axes>"
      ]
     },
     "metadata": {
      "needs_background": "light"
     },
     "output_type": "display_data"
    },
    {
     "data": {
      "image/png": "[encoded data removed]",
      "text/plain": [
       "<Figure size 432x288 with 1 Axes>"
      ]
     },
     "metadata": {
      "needs_background": "light"
     },
     "output_type": "display_data"
    },
    {
     "name": "stdout",
     "output_type": "stream",
     "text": [
      "[loss, a_name] =  [0.33566486835479736, 0.8866999745368958]\n"
     ]
    }
   ],
   "source": [
    "# Evaluation & Learning history\n",
    "\n",
    "## Plotting history and test accuracy\n",
    "def plot_fit_history(fh, name='loss', test_score=0):\n",
    "  \"\"\"Plots history of metrics 'name'\n",
    "  The validation metrics will also be plotted if available as 'val_name' (Keras convention)\n",
    "  A test_score can be added to compare the evolution\"\"\"\n",
    "\n",
    "  if name not in fh.history:\n",
    "      print('plot_fit_history: {} is not a key in history !'.format(name))\n",
    "      return\n",
    "  val_name = 'val_' + name\n",
    "  plt.plot(fh.history[name],     label='train')\n",
    "\n",
    "  if val_name in fh.history:\n",
    "    # add validation if in data\n",
    "    plt.plot(fh.history[val_name], label='valid')\n",
    "  \n",
    "  plt.axhline(y=test_score, color='green', linestyle='-.',label = 'test')\n",
    "  plt.xlabel('Epoch')\n",
    "  plt.ylabel(name)\n",
    "  plt.legend(loc='upper left')\n",
    "  plt.show()\n",
    "\n",
    "test_loss, test_acc = model_f.evaluate(X_test, y_test)\n",
    "\n",
    "a_name='sparse_categorical_accuracy'\n",
    "plot_fit_history(fh, 'loss', test_loss)\n",
    "plot_fit_history(fh, a_name, test_acc)\n",
    "\n",
    "# Yes, we do observe overfitting. Based on output, we might want to decrease \n",
    "# epochs to 4-5 (have a pict at cross of validation and training curves, validation metrics are still imporving up to 4-5)  \n",
    "\n",
    "eval = model_f.evaluate(x=X_test, y=y_test, verbose=0)\n",
    "print('[loss, a_name] = ', eval)"
   ]
  },
  {
   "cell_type": "markdown",
   "metadata": {
    "id": "62Hi3nvoycq4"
   },
   "source": [
    "## Inspect predictions"
   ]
  },
  {
   "cell_type": "markdown",
   "metadata": {
    "id": "C3H-rByvyk6l"
   },
   "source": [
    "Inspect the training image with index 43 and compare the predicted label with the true label.\n",
    "\n",
    "Compare all predicted label from the training set with all true labels - you may want to use the plot_cm() funcion defined above."
   ]
  },
  {
   "cell_type": "code",
   "execution_count": 44,
   "metadata": {
    "colab": {
     "base_uri": "https://localhost:8080/",
     "height": 683
    },
    "id": "HVGkIBJEbYdf",
    "outputId": "e78200f4-b1c9-4b84-e872-5fd6dada4a6e"
   },
   "outputs": [
    {
     "name": "stdout",
     "output_type": "stream",
     "text": [
      "(28, 28)\n",
      "(1, 28, 28)\n",
      "1/1 [==============================] - 0s 20ms/step\n",
      "[[0.   0.   0.   0.   0.   0.   0.   0.67 0.   0.33]]\n"
     ]
    },
    {
     "data": {
      "image/png": "[encoded data removed]",
      "text/plain": [
       "<Figure size 864x360 with 2 Axes>"
      ]
     },
     "metadata": {
      "needs_background": "light"
     },
     "output_type": "display_data"
    },
    {
     "name": "stdout",
     "output_type": "stream",
     "text": [
      "313/313 [==============================] - 0s 1ms/step\n",
      "[9 2 1 ... 8 1 5]\n"
     ]
    },
    {
     "data": {
      "image/png": "[encoded data removed]",
      "text/plain": [
       "<Figure size 432x288 with 2 Axes>"
      ]
     },
     "metadata": {
      "needs_background": "light"
     },
     "output_type": "display_data"
    }
   ],
   "source": [
    "# prediction and inspection for one test image\n",
    "id=43\n",
    "img43 = X_test[43]\n",
    "print(img43.shape)  \n",
    "img43 = (np.expand_dims(img43,0))\n",
    "print(img43.shape)\n",
    "prediction_43 = model_f.predict(img43)\n",
    "print(prediction_43.round(2))\n",
    "\n",
    "\n",
    "\n",
    "fig, ax = plt.subplots(1,2, figsize=(12,5))\n",
    "ax[0].imshow(img43[0], cmap='Greys')\n",
    "ax[1].bar(range(10), prediction_43[0])\n",
    "ax[1].set_xticks(range(10))\n",
    "ax[1].set_title(np.argmax(prediction_43[0]))\n",
    "plt.show()\n",
    "\n",
    "# predictions for all test images\n",
    "model_f_pred = model_f.predict(X_test)\n",
    "y_pred = np.argmax(model_f_pred, axis=1)  # classes with max prob (= labels)\n",
    "print(y_pred)\n",
    "\n",
    "# confusion matrix\n",
    "cm=confusion_matrix(y_pred, y_test)\n",
    "plot_cm(cm)"
   ]
  },
  {
   "cell_type": "markdown",
   "metadata": {
    "id": "SfiQP2r4zeuz"
   },
   "source": [
    "## Suggestions for improvements"
   ]
  },
  {
   "cell_type": "markdown",
   "metadata": {
    "id": "tJc4f4eSzjRL"
   },
   "source": [
    "Make suggestions for possible improvements to the model and the fitting process\n",
    "\n",
    "- changing non-linear function\n",
    "- adding nodes/ reducing nodes\n",
    "- using a dropout technique (randomly turn off some nodes in the layer based on some probability)\n",
    "- reconsider convolutional layers"
   ]
  }
 ],
 "metadata": {
  "colab": {
   "collapsed_sections": [
    "TAnJASH5quJk",
    "KmquoP14rDqe",
    "tdAPA9VJIv_H",
    "V94CnEE8I3B0",
    "O2nv6ZX4NWT4",
    "wFxYP6rw4kUp",
    "2tyg07p1vHdY",
    "rlCQxCEjTHth",
    "-Eaw4p1vTEeF",
    "sJDkDz68Q5zM",
    "IB8Urui41lRB",
    "AwZkXQtP1-KN",
    "yOh4_l0m2XTS",
    "62Hi3nvoycq4",
    "SfiQP2r4zeuz"
   ],
   "name": "Klausur_VeraRykalina_2022.06.21.ipynb",
   "provenance": []
  },
  "kernelspec": {
   "display_name": "Python 3",
   "language": "python",
   "name": "python3"
  },
  "language_info": {
   "codemirror_mode": {
    "name": "ipython",
    "version": 3
   },
   "file_extension": ".py",
   "mimetype": "text/x-python",
   "name": "python",
   "nbconvert_exporter": "python",
   "pygments_lexer": "ipython3",
   "version": "3.9.12"
  }
 },
 "nbformat": 4,
 "nbformat_minor": 4
}
