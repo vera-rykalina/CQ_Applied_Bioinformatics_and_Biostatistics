{
 "cells": [
  {
   "cell_type": "code",
   "execution_count": null,
   "id": "62dfafdd",
   "metadata": {},
   "outputs": [],
   "source": [
    "# LEK 2\n",
    "# Task: Name two types of loops and outline their general construction, including their condition\n",
    "# 1 Loop (for)\n",
    "# For\n",
    "#     initialization of the starting value\n",
    "#     starting value is less than the stopping value\n",
    "#     one or more statements or actions\n",
    "#     increment the starting value\n",
    "\n",
    "# 2 Loop (while)\n",
    "# initialization of the starting value (predicate)\n",
    "# While the starting value is less than the stopping value\n",
    "#       some statements or action\n",
    "#       one or more statements or actions\n",
    "#       increment the starting value"
   ]
  },
  {
   "cell_type": "code",
   "execution_count": null,
   "id": "157779e8",
   "metadata": {},
   "outputs": [],
   "source": [
    "# Task: Wirte down the general construction of a branching, using if, elif, and else.\n",
    "# If (boolean condition) Then\n",
    "#     (consequent)\n",
    "# Elif (boolean condition) Then\n",
    "#     (consequent)\n",
    "# Else\n",
    "#     (alternative)\n",
    "# End If"
   ]
  },
  {
   "cell_type": "code",
   "execution_count": null,
   "id": "208d9f2e",
   "metadata": {},
   "outputs": [],
   "source": [
    "# Pseudocode\n",
    "# You want to sort your CD collection, consisting of 250 CDs, according to genre and artist. \n",
    "# You have CDs of five different genres, Pop, Rock, Dance, Hip-Hop and Folk. For each genre \n",
    "# there are seven different artists (KP1 to KP7, KR1 to KR7, etc…). Write the Pseudocode and \n",
    "# create a structogram for this problem. Don’t forget to define possible additional variables \n",
    "# beyond the array CDs.\n",
    "\n",
    "# Define a CD collection cd_array with a size of 250.\n",
    "# Define 35 empty subcollections or subarrays: pop_KP1 ... pop_KP7 and so on.\n",
    "# Define an iterable subarray for genres: [\"Pop\", \"Rock\", \"Dance\", \"Hip-Hop\", \"Folk\"]; genres = 5\n",
    "# Define an iterable subarray for artists: [\"KP1\", ..., \"KP7\", \"KR1\", ... \"KR7\", etc.];artists = 35 \n",
    "\n",
    "\n",
    "\n",
    "# For each cd in cd_array:\n",
    "#     For each genre in genres:\n",
    "#         For each artist in artists:\n",
    "#             If cd is equal to genre and cd is equal to artist: Then\n",
    "#               append the cd to the predefined empty subarrays (i.e. pop_KP1, pop_KP2, etc.)\n"
   ]
  }
 ],
 "metadata": {
  "kernelspec": {
   "display_name": "Python 3 (ipykernel)",
   "language": "python",
   "name": "python3"
  },
  "language_info": {
   "codemirror_mode": {
    "name": "ipython",
    "version": 3
   },
   "file_extension": ".py",
   "mimetype": "text/x-python",
   "name": "python",
   "nbconvert_exporter": "python",
   "pygments_lexer": "ipython3",
   "version": "3.7.12"
  }
 },
 "nbformat": 4,
 "nbformat_minor": 5
}
